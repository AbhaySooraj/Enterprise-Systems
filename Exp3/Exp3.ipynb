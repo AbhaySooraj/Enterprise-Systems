{
 "cells": [
  {
   "cell_type": "code",
   "execution_count": 1,
   "id": "e8861f44-f1c3-4d1c-8281-6ab5c7296dbd",
   "metadata": {},
   "outputs": [
    {
     "name": "stdout",
     "output_type": "stream",
     "text": [
      "\n",
      "Main Menu:\n",
      "1. Add Product\n",
      "2. Update Product\n",
      "3. Record Sale\n",
      "4. View Inventory\n",
      "5. Recommend Restocks\n",
      "6. Exit\n"
     ]
    },
    {
     "name": "stdin",
     "output_type": "stream",
     "text": [
      "Enter your choice:  4\n"
     ]
    },
    {
     "name": "stdout",
     "output_type": "stream",
     "text": [
      "\n",
      "Inventory:\n",
      "{'Product ID': 'P001', 'Product Name': 'Laptop', 'Category': 'Electronics', 'Price': '750.0', 'Stock': '50', 'Total Sales': '120'}\n",
      "{'Product ID': 'P002', 'Product Name': 'Phone', 'Category': 'Electronics', 'Price': '500.0', 'Stock': '150', 'Total Sales': '300'}\n",
      "{'Product ID': 'P003', 'Product Name': 'Desk Chair', 'Category': 'Furniture', 'Price': '120.0', 'Stock': '20', 'Total Sales': '50'}\n",
      "{'Product ID': 'P004', 'Product Name': 'Notebook', 'Category': 'Stationery', 'Price': '3.0', 'Stock': '500', 'Total Sales': '200'}\n",
      "{'Product ID': 'P005', 'Product Name': 'Pen', 'Category': 'Stationery', 'Price': '1.0', 'Stock': '1000', 'Total Sales': '450'}\n",
      "\n",
      "Main Menu:\n",
      "1. Add Product\n",
      "2. Update Product\n",
      "3. Record Sale\n",
      "4. View Inventory\n",
      "5. Recommend Restocks\n",
      "6. Exit\n"
     ]
    },
    {
     "name": "stdin",
     "output_type": "stream",
     "text": [
      "Enter your choice:  1\n",
      "Enter Product ID:  P006\n",
      "Enter Product Name:  Pencil\n",
      "Enter Category:  Stationary\n",
      "Enter Price:  2\n",
      "Enter Stock:  500\n"
     ]
    },
    {
     "name": "stdout",
     "output_type": "stream",
     "text": [
      "Product added successfully!\n",
      "\n",
      "Main Menu:\n",
      "1. Add Product\n",
      "2. Update Product\n",
      "3. Record Sale\n",
      "4. View Inventory\n",
      "5. Recommend Restocks\n",
      "6. Exit\n"
     ]
    },
    {
     "name": "stdin",
     "output_type": "stream",
     "text": [
      "Enter your choice:  249\n"
     ]
    },
    {
     "name": "stdout",
     "output_type": "stream",
     "text": [
      "Invalid choice. Please try again.\n",
      "\n",
      "Main Menu:\n",
      "1. Add Product\n",
      "2. Update Product\n",
      "3. Record Sale\n",
      "4. View Inventory\n",
      "5. Recommend Restocks\n",
      "6. Exit\n"
     ]
    },
    {
     "name": "stdin",
     "output_type": "stream",
     "text": [
      "Enter your choice:  4\n"
     ]
    },
    {
     "name": "stdout",
     "output_type": "stream",
     "text": [
      "\n",
      "Inventory:\n",
      "{'Product ID': 'P001', 'Product Name': 'Laptop', 'Category': 'Electronics', 'Price': '750.0', 'Stock': '50', 'Total Sales': '120'}\n",
      "{'Product ID': 'P002', 'Product Name': 'Phone', 'Category': 'Electronics', 'Price': '500.0', 'Stock': '150', 'Total Sales': '300'}\n",
      "{'Product ID': 'P003', 'Product Name': 'Desk Chair', 'Category': 'Furniture', 'Price': '120.0', 'Stock': '20', 'Total Sales': '50'}\n",
      "{'Product ID': 'P004', 'Product Name': 'Notebook', 'Category': 'Stationery', 'Price': '3.0', 'Stock': '500', 'Total Sales': '200'}\n",
      "{'Product ID': 'P005', 'Product Name': 'Pen', 'Category': 'Stationery', 'Price': '1.0', 'Stock': '1000', 'Total Sales': '450'}\n",
      "{'Product ID': 'P006', 'Product Name': 'Pencil', 'Category': 'Stationary', 'Price': '2.0', 'Stock': '500', 'Total Sales': '0'}\n",
      "\n",
      "Main Menu:\n",
      "1. Add Product\n",
      "2. Update Product\n",
      "3. Record Sale\n",
      "4. View Inventory\n",
      "5. Recommend Restocks\n",
      "6. Exit\n"
     ]
    },
    {
     "name": "stdin",
     "output_type": "stream",
     "text": [
      "Enter your choice:  3\n",
      "Enter Product ID for sale:  P006\n",
      "Enter quantity sold:  50\n"
     ]
    },
    {
     "name": "stdout",
     "output_type": "stream",
     "text": [
      "Sale recorded successfully!\n",
      "\n",
      "Main Menu:\n",
      "1. Add Product\n",
      "2. Update Product\n",
      "3. Record Sale\n",
      "4. View Inventory\n",
      "5. Recommend Restocks\n",
      "6. Exit\n"
     ]
    },
    {
     "name": "stdin",
     "output_type": "stream",
     "text": [
      "Enter your choice:  4\n"
     ]
    },
    {
     "name": "stdout",
     "output_type": "stream",
     "text": [
      "\n",
      "Inventory:\n",
      "{'Product ID': 'P001', 'Product Name': 'Laptop', 'Category': 'Electronics', 'Price': '750.0', 'Stock': '50', 'Total Sales': '120'}\n",
      "{'Product ID': 'P002', 'Product Name': 'Phone', 'Category': 'Electronics', 'Price': '500.0', 'Stock': '150', 'Total Sales': '300'}\n",
      "{'Product ID': 'P003', 'Product Name': 'Desk Chair', 'Category': 'Furniture', 'Price': '120.0', 'Stock': '20', 'Total Sales': '50'}\n",
      "{'Product ID': 'P004', 'Product Name': 'Notebook', 'Category': 'Stationery', 'Price': '3.0', 'Stock': '500', 'Total Sales': '200'}\n",
      "{'Product ID': 'P005', 'Product Name': 'Pen', 'Category': 'Stationery', 'Price': '1.0', 'Stock': '1000', 'Total Sales': '450'}\n",
      "{'Product ID': 'P006', 'Product Name': 'Pencil', 'Category': 'Stationary', 'Price': '2.0', 'Stock': '450', 'Total Sales': '50'}\n",
      "\n",
      "Main Menu:\n",
      "1. Add Product\n",
      "2. Update Product\n",
      "3. Record Sale\n",
      "4. View Inventory\n",
      "5. Recommend Restocks\n",
      "6. Exit\n"
     ]
    },
    {
     "name": "stdin",
     "output_type": "stream",
     "text": [
      "Enter your choice:  5\n",
      "Enter stock threshold:  20\n"
     ]
    },
    {
     "name": "stdout",
     "output_type": "stream",
     "text": [
      "\n",
      "All products are sufficiently stocked.\n",
      "\n",
      "Main Menu:\n",
      "1. Add Product\n",
      "2. Update Product\n",
      "3. Record Sale\n",
      "4. View Inventory\n",
      "5. Recommend Restocks\n",
      "6. Exit\n"
     ]
    },
    {
     "name": "stdin",
     "output_type": "stream",
     "text": [
      "Enter your choice:  5\n",
      "Enter stock threshold:  50\n"
     ]
    },
    {
     "name": "stdout",
     "output_type": "stream",
     "text": [
      "\n",
      "Products needing restocking:\n",
      "{'Product ID': 'P003', 'Product Name': 'Desk Chair', 'Category': 'Furniture', 'Price': '120.0', 'Stock': '20', 'Total Sales': '50'}\n",
      "\n",
      "Main Menu:\n",
      "1. Add Product\n",
      "2. Update Product\n",
      "3. Record Sale\n",
      "4. View Inventory\n",
      "5. Recommend Restocks\n",
      "6. Exit\n"
     ]
    },
    {
     "name": "stdin",
     "output_type": "stream",
     "text": [
      "Enter your choice:  2\n",
      "Enter Product ID to update:  P003\n",
      "Enter field to update (Price/Stock):  Stock\n",
      "Enter new value for Stock:  30\n"
     ]
    },
    {
     "name": "stdout",
     "output_type": "stream",
     "text": [
      "Product updated successfully!\n",
      "\n",
      "Main Menu:\n",
      "1. Add Product\n",
      "2. Update Product\n",
      "3. Record Sale\n",
      "4. View Inventory\n",
      "5. Recommend Restocks\n",
      "6. Exit\n"
     ]
    },
    {
     "name": "stdin",
     "output_type": "stream",
     "text": [
      "Enter your choice:  4\n"
     ]
    },
    {
     "name": "stdout",
     "output_type": "stream",
     "text": [
      "\n",
      "Inventory:\n",
      "{'Product ID': 'P001', 'Product Name': 'Laptop', 'Category': 'Electronics', 'Price': '750.0', 'Stock': '50', 'Total Sales': '120'}\n",
      "{'Product ID': 'P002', 'Product Name': 'Phone', 'Category': 'Electronics', 'Price': '500.0', 'Stock': '150', 'Total Sales': '300'}\n",
      "{'Product ID': 'P003', 'Product Name': 'Desk Chair', 'Category': 'Furniture', 'Price': '120.0', 'Stock': '30', 'Total Sales': '50'}\n",
      "{'Product ID': 'P004', 'Product Name': 'Notebook', 'Category': 'Stationery', 'Price': '3.0', 'Stock': '500', 'Total Sales': '200'}\n",
      "{'Product ID': 'P005', 'Product Name': 'Pen', 'Category': 'Stationery', 'Price': '1.0', 'Stock': '1000', 'Total Sales': '450'}\n",
      "{'Product ID': 'P006', 'Product Name': 'Pencil', 'Category': 'Stationary', 'Price': '2.0', 'Stock': '450', 'Total Sales': '50'}\n",
      "\n",
      "Main Menu:\n",
      "1. Add Product\n",
      "2. Update Product\n",
      "3. Record Sale\n",
      "4. View Inventory\n",
      "5. Recommend Restocks\n",
      "6. Exit\n"
     ]
    },
    {
     "name": "stdin",
     "output_type": "stream",
     "text": [
      "Enter your choice:  6\n"
     ]
    },
    {
     "name": "stdout",
     "output_type": "stream",
     "text": [
      "Exiting the system. Goodbye!\n"
     ]
    }
   ],
   "source": [
    "import csv\n",
    "\n",
    "# Step 1: Define Data Structure\n",
    "CSV_FILE = 'inventory.csv'\n",
    "\n",
    "def initialize_csv():\n",
    "    \"\"\"Creates a CSV file if it doesn't exist.\"\"\"\n",
    "    try:\n",
    "        with open(CSV_FILE, 'x', newline='') as file:\n",
    "            writer = csv.writer(file)\n",
    "            writer.writerow(['Product ID', 'Product Name', 'Category', 'Price', 'Stock', 'Total Sales'])\n",
    "    except FileExistsError:\n",
    "        pass\n",
    "\n",
    "# Step 2: Design IMS Core Functionalities\n",
    "def load_inventory():\n",
    "    with open(CSV_FILE, 'r') as file:\n",
    "        return list(csv.DictReader(file))\n",
    "\n",
    "def save_inventory(inventory):\n",
    "    with open(CSV_FILE, 'w', newline='') as file:\n",
    "        writer = csv.DictWriter(file, fieldnames=['Product ID', 'Product Name', 'Category', 'Price', 'Stock', 'Total Sales'])\n",
    "        writer.writeheader()\n",
    "        writer.writerows(inventory)\n",
    "\n",
    "def add_product():\n",
    "    inventory = load_inventory()\n",
    "    product_id = input(\"Enter Product ID: \")\n",
    "    if any(item['Product ID'] == product_id for item in inventory):\n",
    "        print(\"Error: Product ID already exists.\")\n",
    "        return\n",
    "\n",
    "    product_name = input(\"Enter Product Name: \")\n",
    "    category = input(\"Enter Category: \")\n",
    "    price = float(input(\"Enter Price: \"))\n",
    "    stock = int(input(\"Enter Stock: \"))\n",
    "    total_sales = 0\n",
    "\n",
    "    inventory.append({\n",
    "        'Product ID': product_id,\n",
    "        'Product Name': product_name,\n",
    "        'Category': category,\n",
    "        'Price': price,\n",
    "        'Stock': stock,\n",
    "        'Total Sales': total_sales\n",
    "    })\n",
    "\n",
    "    save_inventory(inventory)\n",
    "    print(\"Product added successfully!\")\n",
    "\n",
    "def update_product():\n",
    "    inventory = load_inventory()\n",
    "    product_id = input(\"Enter Product ID to update: \")\n",
    "    product = next((item for item in inventory if item['Product ID'] == product_id), None)\n",
    "\n",
    "    if not product:\n",
    "        print(\"Error: Product ID not found.\")\n",
    "        return\n",
    "\n",
    "    field = input(\"Enter field to update (Price/Stock): \").capitalize()\n",
    "    if field in ['Price', 'Stock']:\n",
    "        new_value = input(f\"Enter new value for {field}: \")\n",
    "        product[field] = float(new_value) if field == 'Price' else int(new_value)\n",
    "        save_inventory(inventory)\n",
    "        print(\"Product updated successfully!\")\n",
    "    else:\n",
    "        print(\"Error: Invalid field.\")\n",
    "\n",
    "def record_sale():\n",
    "    inventory = load_inventory()\n",
    "    product_id = input(\"Enter Product ID for sale: \")\n",
    "    product = next((item for item in inventory if item['Product ID'] == product_id), None)\n",
    "\n",
    "    if not product:\n",
    "        print(\"Error: Product ID not found.\")\n",
    "        return\n",
    "\n",
    "    quantity = int(input(\"Enter quantity sold: \"))\n",
    "    stock = int(product['Stock'])\n",
    "\n",
    "    if stock >= quantity:\n",
    "        product['Stock'] = stock - quantity\n",
    "        product['Total Sales'] = int(product['Total Sales']) + quantity\n",
    "        save_inventory(inventory)\n",
    "        print(\"Sale recorded successfully!\")\n",
    "    else:\n",
    "        print(\"Error: Insufficient stock.\")\n",
    "\n",
    "def view_inventory():\n",
    "    inventory = load_inventory()\n",
    "    print(\"\\nInventory:\")\n",
    "    for item in inventory:\n",
    "        print(item)\n",
    "\n",
    "# Step 3: Implement DSS for Restocking Recommendations\n",
    "def recommend_restock():\n",
    "    threshold = int(input(\"Enter stock threshold: \"))\n",
    "    inventory = load_inventory()\n",
    "\n",
    "    recommendations = [item for item in inventory if int(item['Stock']) < threshold]\n",
    "\n",
    "    if recommendations:\n",
    "        print(\"\\nProducts needing restocking:\")\n",
    "        for item in recommendations:\n",
    "            print(item)\n",
    "    else:\n",
    "        print(\"\\nAll products are sufficiently stocked.\")\n",
    "\n",
    "# Step 4: Integrate IMS and DSS\n",
    "def main_menu():\n",
    "    initialize_csv()\n",
    "\n",
    "    while True:\n",
    "        print(\"\\nMain Menu:\")\n",
    "        print(\"1. Add Product\")\n",
    "        print(\"2. Update Product\")\n",
    "        print(\"3. Record Sale\")\n",
    "        print(\"4. View Inventory\")\n",
    "        print(\"5. Recommend Restocks\")\n",
    "        print(\"6. Exit\")\n",
    "\n",
    "        choice = input(\"Enter your choice: \")\n",
    "\n",
    "        if choice == '1':\n",
    "            add_product()\n",
    "        elif choice == '2':\n",
    "            update_product()\n",
    "        elif choice == '3':\n",
    "            record_sale()\n",
    "        elif choice == '4':\n",
    "            view_inventory()\n",
    "        elif choice == '5':\n",
    "            recommend_restock()\n",
    "        elif choice == '6':\n",
    "            print(\"Exiting the system. Goodbye!\")\n",
    "            break\n",
    "        else:\n",
    "            print(\"Invalid choice. Please try again.\")\n",
    "\n",
    "if __name__ == \"__main__\":\n",
    "    main_menu()\n"
   ]
  },
  {
   "cell_type": "code",
   "execution_count": null,
   "id": "25c385a0-63eb-418c-a0df-ed16f764696c",
   "metadata": {},
   "outputs": [],
   "source": []
  }
 ],
 "metadata": {
  "kernelspec": {
   "display_name": "Python 3 (ipykernel)",
   "language": "python",
   "name": "python3"
  },
  "language_info": {
   "codemirror_mode": {
    "name": "ipython",
    "version": 3
   },
   "file_extension": ".py",
   "mimetype": "text/x-python",
   "name": "python",
   "nbconvert_exporter": "python",
   "pygments_lexer": "ipython3",
   "version": "3.10.12"
  }
 },
 "nbformat": 4,
 "nbformat_minor": 5
}
